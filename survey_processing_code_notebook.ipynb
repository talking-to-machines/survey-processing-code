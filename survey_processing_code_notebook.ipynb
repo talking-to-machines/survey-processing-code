{
 "cells": [
  {
   "cell_type": "markdown",
   "id": "a9445df2-c217-4bfb-adde-75db6b09fd20",
   "metadata": {},
   "source": [
    "Generate 'kitchen-sink' prompts, i.e. a series of demographic descriptions of a synthetic subject (e.g. \"You are Ghanian and you live in... Answer the following question:...\"), for Afrobarometer Ghana round 9"
   ]
  },
  {
   "cell_type": "code",
   "execution_count": null,
   "id": "80632ee9-ecd1-4a97-8cf0-612573f22efd",
   "metadata": {},
   "outputs": [],
   "source": [
    "# set file path to original data file\n",
    "file_path = \"/PATH/TO/FILE\"\n",
    "\n",
    "# use read the original data file as pandas dataframe\n",
    "raw_data = read_file_as_dataframe(file_path)\n",
    "\n",
    "# select relevant columns\n",
    "df = select_columns(raw_data, columns_demo, columns_resp)\n",
    "\n",
    "# create prompt bases from demographic variables\n",
    "# choose afrobarometer_second_person_base for second-person prompts (\"You are\") or\n",
    "# afrobarometer_third_person_base for third-person prompts (\"She is\")\n",
    "df = afrobarometer_second_person_base(df) # or\n",
    "#df = afrobarometer_third_person_base(df)\n",
    "\n",
    "# create prompts from prompt bases\n",
    "df = kitchen_sink_prompt(df, columns_demo, columns_resp, question_text)\n",
    "df"
   ]
  },
  {
   "cell_type": "markdown",
   "id": "17943020-4127-4e11-aefd-a3f8e4d0a34c",
   "metadata": {},
   "source": [
    "Generate 'synthetic interview' prompts, i.e. an interview format asking the LLM to answer the final question selected randomly, for Afrobarometer Ghana round 9"
   ]
  },
  {
   "cell_type": "code",
   "execution_count": null,
   "id": "5e1b4603-fce6-44a9-ab2d-44ca7e615580",
   "metadata": {},
   "outputs": [],
   "source": [
    "# repeat the aforementioned pipeline\n",
    "raw_data = read_file_as_dataframe(file_path)\n",
    "df = select_columns(raw_data, columns_demo, columns_resp)\n",
    "df = afrobarometer_second_person_base(df)\n",
    "df = kitchen_sink_prompt(df, columns_demo, columns_resp, question_text)\n",
    "\n",
    "# run synthetic_interview function\n",
    "synthetic_df = synthetic_interview(df, synthetic_questions)\n",
    "synthetic_df"
   ]
  },
  {
   "cell_type": "markdown",
   "id": "b1f65487-973d-474d-ac6a-e49a9e09c252",
   "metadata": {},
   "source": [
    "Simply generate a subsetted raw data file (a row for each respondent, with columns indicating the selected questions);\n",
    "This pipeline could be applied to any other survey data files"
   ]
  },
  {
   "cell_type": "code",
   "execution_count": null,
   "id": "6d647477-2cb9-42e7-a22c-c247b8fcb726",
   "metadata": {},
   "outputs": [],
   "source": [
    "# use read the original data file as pandas dataframe\n",
    "raw_data = read_file_as_dataframe(file_path)\n",
    "\n",
    "# set variables\n",
    "# the length of question_text has to equal the sum of columns included in columns_demo and columns_resp\n",
    "columns_demo = \"RESPNO, URBRUR, REGION, Q1, Q100, Q101, Q2, Q94, Q95, Q84A, Q93A, Q93B, EA_SVC_A, EA_SVC_B, EA_SVC_C, EA_SVC_D, EA_FAC_D, Q91A, Q92A, Q90F, Q90G, Q4B, Q89A, Q89B, Q96, Q4A, Q8\"\n",
    "columns_resp = \"Q6C, Q41A, Q41B, Q41C, Q41D, Q41G, Q45PT1, Q57A, Q57B, Q58A, Q58B, Q58C, Q59, Q7A, Q7B, Q9A, Q9B, Q9C, Q11B, Q11C, Q11D, Q11E, Q31, Q33D, Q33E, Q33I, Q83C_GHA, Q86A, Q86B, Q86C, Q86D, Q86E, Q86F, Q90I\"\n",
    "question_text = [\"RESPNO\",\n",
    "                 \"Do you come from a rural or urban area?\",\n",
    "                 \"What region do you come from?\",\n",
    "                 \"How old are you?\",\n",
    "                 \"What is your gender?\",\n",
    "                 \"What is your race?\",\n",
    "                 \"What is the primary language you speak in your home?\",\n",
    "                 \"What is your highest level of education?\",\n",
    "                 \"What is your religion, if any?\",\n",
    "                 \"What is your ethnic community or cultural group?\",\n",
    "                 \"Do you have a job that pays a cash income? If yes, is it full time or part time? If no, are you currently looking for a job?\",\n",
    "                 \"What is your main occupation? If unemployed, retired, or disabled, what was your last main occupation?\",\n",
    "                 \"Does the enumeration area have an electricity grid that most houses can acess?\",\n",
    "                 \"Does the enumeration area have a piped water system that most houses can acess?\",\n",
    "                 \"Does the enumeration area have a sewage system that most houses can acess?\",\n",
    "                 \"Does the enumeration area have a mobile phone service that most houses can acess?\",\n",
    "                 \"Are health clinics (private or public or both) present in the enumeration area or in easy walking distance?\",\n",
    "                 \"What is your main source of water for household use?\",\n",
    "                 \"Do you have an electric connection to your home from the [national power grid]?\",\n",
    "                 \"Do you personally own a mobile phone? If not, does anyone else in your household own one?\",\n",
    "                 \"Do you personally own a mobile phone? If yes, does your phone have access to the Internet?\",\n",
    "                 \"In general, how would you describe your own present living conditions?\",\n",
    "                 \"Do you feel close to any particular political party?\",\n",
    "                 \"Which party is that?\",\n",
    "                 \"If presidential elections were held tomorrow, which party's candidate would you vote for?\"\n",
    "                 \"In general, how would you describe the present economic condition of this country?\",\n",
    "                 \"When you get together with your friends or family, how often would you say you discuss political matters?\",\n",
    "                 \"In this country, how free are you to say what you think?\",\n",
    "                 \n",
    "                 \"Over the past year, how often, if ever, have you or anyone in your family gone without medicines or medical treatment?\",\n",
    "                 \"In the past 12 months, have you had contact with a public clinic or hospital?\",\n",
    "                 \"How easy or difficult was it to obtain the medical care or services you needed?\",\n",
    "                 \"How often, if ever, did you have to pay a bribe, give a gift, or do a favor for a health worker or clinic or hospital staff in order to get the medical care or services you needed?\",\n",
    "                 \"In general, when dealing with health workers and clinic or hospital staff, how much do you feel you can trust them?\",\n",
    "                 \"How well or badly would you say the current government is improving basic health services, or haven't you heard enough to say?\",\n",
    "                 \"In your opinion, what are the most important problems facing this country that government should address?\",\n",
    "                 \"Please tell me whether you personally or any other member of your household have been affected by the COVID-19 pandemic by becoming ill with, or testing positive for, COVID-19?\",\n",
    "                 \"Please tell me whether you personally or any other member of your household have been affected by the COVID-19 pandemic by temporarily or permanently losing a job, business, or primary source of income?\",\n",
    "                 \"Have you received a vaccination against COVID-19, either one or two doses?\",\n",
    "                 \"If a vaccine for COVID-19 is available , how likely are you to try to get vaccinated?\",\n",
    "                 \"What is the main reason that you would be unlikely to get a COVID-19 vaccine?\",\n",
    "                 \"How much do you trust the government to ensure that any vaccine for COVID-19 that is developed or offered to Ghanian citizens is safe before it is used in this country?\",\n",
    "\n",
    "                 \"Over the past year, how often, if ever, have you or anyone in your family felt unsafe walking in your neighbourhood?\",\n",
    "                 \"Over the past year, how often, if ever, have you or anyone in your family feared crime in your own home?\",\n",
    "                 \"In this country, how free are you to say what you think?\",\n",
    "                 \"In this country, how free are you to join any political organization you want?\",\n",
    "                 \"In this country, how free are you to choose who to vote for without feeling pressured?\",\n",
    "                 \"During the past year, how often have you contacted any local government councillor about some important problem or to give them your views?\",\n",
    "                 \"During the past year, how often have you contacted any member of national assembly about some important problem or to give them your views?\",\n",
    "                 \"During the past year, how often have you contacted any political party official about some important problem or to give them your views?\",\n",
    "                 \"During the past year, how often have you contacted any traditional leader about some important problem or to give them your views?\",\n",
    "                 \"Overall, how satisfied are you with the way democracy works in Ghana?\",\n",
    "                 \"In your opinion, how often, in this country do people have to be careful of what they say about politics?\",\n",
    "                 \"In your opinion, how often, in this country are people treated unequally under the law?\",\n",
    "                 \"How often, if ever, are people treated unfairly by the government based on their economic status, that is, how rich or poor they are?\",\n",
    "                 \"To whom do you normally go to first for assistance, when you are concerned about your security and the security of your family?\",\n",
    "                 \"How much do you trust other Ghanaians?\",\n",
    "                 \"How much do you trust your relatives?\",\n",
    "                 \"How much do you trust your neighbours?\",\n",
    "                 \"How much do you trust other people you know?\",\n",
    "                 \"How much do you trust people from othe religions?\",\n",
    "                 \"How much do you trust people from other ethnic groups?\",\n",
    "                 \"How often do you use the Internet?\"]\n",
    "\n",
    "# select columns using the set variables\n",
    "df = select_columns(raw_data, columns_demo, columns_resp)\n",
    "\n",
    "# set column names\n",
    "df.columns = list(df.columns[:-len(question_text)]) + question_text\n",
    "df"
   ]
  }
 ],
 "metadata": {
  "kernelspec": {
   "display_name": "Python 3 (ipykernel)",
   "language": "python",
   "name": "python3"
  },
  "language_info": {
   "codemirror_mode": {
    "name": "ipython",
    "version": 3
   },
   "file_extension": ".py",
   "mimetype": "text/x-python",
   "name": "python",
   "nbconvert_exporter": "python",
   "pygments_lexer": "ipython3",
   "version": "3.9.13"
  }
 },
 "nbformat": 4,
 "nbformat_minor": 5
}
